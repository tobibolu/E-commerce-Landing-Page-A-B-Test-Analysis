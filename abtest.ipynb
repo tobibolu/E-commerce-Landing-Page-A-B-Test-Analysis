{
 "cells": [
  {
   "cell_type": "markdown",
   "id": "d2b62f47",
   "metadata": {},
   "source": [
    "# E-commerce Landing Page A/B Test Analysis\n",
    "## A/B Testing Project for Website Optimization\n",
    "\n",
    "This project evaluates a new landing page design through an A/B testing framework. The goal is to determine whether \n",
    "the new design improves user conversion rates compared to the current design.\n",
    "\n",
    "### Business Context\n",
    "- The company aims to increase conversion rates on their e-commerce platform.\n",
    "- Current performance is measured by the conversion rate, and even small improvements can lead to significant revenue gains.\n",
    "- Stakeholders include the Marketing and Product teams, who need data-driven insights to make informed decisions.\n",
    "\n",
    "### Project Objectives\n",
    "1. Perform comprehensive data cleaning and exploratory analysis of user interactions.\n",
    "2. Apply statistical tests to assess the significance of conversion differences between control and treatment groups.\n",
    "3. Evaluate the potential business impact and provide actionable recommendations."
   ]
  },
  {
   "cell_type": "code",
   "execution_count": 12,
   "id": "1b24544d",
   "metadata": {},
   "outputs": [],
   "source": [
    "# Import required libraries\n",
    "import pandas as pd\n",
    "import numpy as np\n",
    "import matplotlib.pyplot as plt\n",
    "import seaborn as sns\n",
    "from scipy import stats\n",
    "import statsmodels.api as sm\n",
    "from datetime import datetime\n",
    "import warnings\n",
    "warnings.filterwarnings(\"ignore\")\n",
    "\n",
    "\n",
    "# Set styling and reproducibility\n",
    "plt.style.use('seaborn')\n",
    "sns.set_palette(\"husl\")\n",
    "plt.rcParams['figure.figsize'] = [12, 7]\n",
    "plt.rcParams['font.size'] = 12\n",
    "np.random.seed(42)"
   ]
  },
  {
   "cell_type": "markdown",
   "id": "e74edbdb",
   "metadata": {},
   "source": [
    "## 1. Data Loading and Quality Assessment\n",
    "In this step, I load the datasets and perform a thorough quality check to understand the structure and potential issues \n",
    "with the data. This ensures the integrity of the subsequent analysis."
   ]
  },
  {
   "cell_type": "code",
   "execution_count": 2,
   "id": "49e14632",
   "metadata": {},
   "outputs": [
    {
     "name": "stdout",
     "output_type": "stream",
     "text": [
      "Initial Data Quality Report:\n",
      "--------------------------------------------------\n",
      "\n",
      "Total Records: 294,478\n",
      "Unique Users: 290,584\n",
      "\n",
      "Missing Values:\n",
      " user_id         0\n",
      "timestamp       0\n",
      "group           0\n",
      "landing_page    0\n",
      "converted       0\n",
      "dtype: int64\n",
      "\n",
      "Duplicate Users: 3894\n",
      "\n",
      "Sample Data:\n"
     ]
    },
    {
     "data": {
      "text/html": [
       "<div>\n",
       "<style scoped>\n",
       "    .dataframe tbody tr th:only-of-type {\n",
       "        vertical-align: middle;\n",
       "    }\n",
       "\n",
       "    .dataframe tbody tr th {\n",
       "        vertical-align: top;\n",
       "    }\n",
       "\n",
       "    .dataframe thead th {\n",
       "        text-align: right;\n",
       "    }\n",
       "</style>\n",
       "<table border=\"1\" class=\"dataframe\">\n",
       "  <thead>\n",
       "    <tr style=\"text-align: right;\">\n",
       "      <th></th>\n",
       "      <th>user_id</th>\n",
       "      <th>timestamp</th>\n",
       "      <th>group</th>\n",
       "      <th>landing_page</th>\n",
       "      <th>converted</th>\n",
       "    </tr>\n",
       "  </thead>\n",
       "  <tbody>\n",
       "    <tr>\n",
       "      <th>0</th>\n",
       "      <td>851104</td>\n",
       "      <td>2017-01-21 22:11:48.556739</td>\n",
       "      <td>control</td>\n",
       "      <td>old_page</td>\n",
       "      <td>0</td>\n",
       "    </tr>\n",
       "    <tr>\n",
       "      <th>1</th>\n",
       "      <td>804228</td>\n",
       "      <td>2017-01-12 08:01:45.159739</td>\n",
       "      <td>control</td>\n",
       "      <td>old_page</td>\n",
       "      <td>0</td>\n",
       "    </tr>\n",
       "    <tr>\n",
       "      <th>2</th>\n",
       "      <td>661590</td>\n",
       "      <td>2017-01-11 16:55:06.154213</td>\n",
       "      <td>treatment</td>\n",
       "      <td>new_page</td>\n",
       "      <td>0</td>\n",
       "    </tr>\n",
       "    <tr>\n",
       "      <th>3</th>\n",
       "      <td>853541</td>\n",
       "      <td>2017-01-08 18:28:03.143765</td>\n",
       "      <td>treatment</td>\n",
       "      <td>new_page</td>\n",
       "      <td>0</td>\n",
       "    </tr>\n",
       "    <tr>\n",
       "      <th>4</th>\n",
       "      <td>864975</td>\n",
       "      <td>2017-01-21 01:52:26.210827</td>\n",
       "      <td>control</td>\n",
       "      <td>old_page</td>\n",
       "      <td>1</td>\n",
       "    </tr>\n",
       "  </tbody>\n",
       "</table>\n",
       "</div>"
      ],
      "text/plain": [
       "   user_id                   timestamp      group landing_page  converted\n",
       "0   851104  2017-01-21 22:11:48.556739    control     old_page          0\n",
       "1   804228  2017-01-12 08:01:45.159739    control     old_page          0\n",
       "2   661590  2017-01-11 16:55:06.154213  treatment     new_page          0\n",
       "3   853541  2017-01-08 18:28:03.143765  treatment     new_page          0\n",
       "4   864975  2017-01-21 01:52:26.210827    control     old_page          1"
      ]
     },
     "metadata": {},
     "output_type": "display_data"
    }
   ],
   "source": [
    "# Load the datasets\n",
    "df = pd.read_csv('ab_data.csv')\n",
    "countries_df = pd.read_csv('countries.csv')\n",
    "\n",
    "# Data quality report\n",
    "print(\"Initial Data Quality Report:\")\n",
    "print(\"-\" * 50)\n",
    "print(f\"\\nTotal Records: {df.shape[0]:,}\")\n",
    "print(f\"Unique Users: {df['user_id'].nunique():,}\")\n",
    "print(\"\\nMissing Values:\\n\", df.isnull().sum())\n",
    "print(\"\\nDuplicate Users:\", df['user_id'].duplicated().sum())\n",
    "\n",
    "# Display sample data for a quick sanity check\n",
    "print(\"\\nSample Data:\")\n",
    "display(df.head())"
   ]
  },
  {
   "cell_type": "markdown",
   "id": "1ed8b94e",
   "metadata": {},
   "source": [
    "## 2. Advanced Data Cleaning\n",
    "Here, I clean the data by addressing mismatches and duplicate entries. This step is crucial to ensure that the analysis \n",
    "is based on accurate and consistent information. I also merge in the country data for a more enriched analysis."
   ]
  },
  {
   "cell_type": "code",
   "execution_count": 4,
   "id": "9ea4f1ca",
   "metadata": {
    "lines_to_next_cell": 1
   },
   "outputs": [
    {
     "name": "stdout",
     "output_type": "stream",
     "text": [
      "Data Cleaning Results:\n",
      "--------------------------------------------------\n",
      "Original records: 294,478\n",
      "Clean records: 290,584\n",
      "Removed records: 3,894\n"
     ]
    }
   ],
   "source": [
    "# Remove mismatched landing pages to ensure consistency between assigned groups and landing page shown\n",
    "df_clean = df.drop(df.query(\n",
    "    '(group == \"treatment\" and landing_page != \"new_page\") or ' +\n",
    "    '(group != \"treatment\" and landing_page == \"new_page\") or ' +\n",
    "    '(group == \"control\" and landing_page != \"old_page\") or ' +\n",
    "    '(group != \"control\" and landing_page == \"old_page\")'\n",
    ").index)\n",
    "\n",
    "# Remove duplicate users by keeping only the latest timestamp per user. This helps in reducing noise from repeated entries.\n",
    "df_clean['timestamp'] = pd.to_datetime(df_clean['timestamp'])\n",
    "df_clean = df_clean.sort_values('timestamp').drop_duplicates('user_id', keep='last')\n",
    "\n",
    "# Merge the cleaned data with country information\n",
    "df_final = df_clean.merge(countries_df, on='user_id', how='left')\n",
    "\n",
    "print(\"Data Cleaning Results:\")\n",
    "print(\"-\" * 50)\n",
    "print(f\"Original records: {len(df):,}\")\n",
    "print(f\"Clean records: {len(df_final):,}\")\n",
    "print(f\"Removed records: {len(df) - len(df_final):,}\")"
   ]
  },
  {
   "cell_type": "markdown",
   "id": "ecfb4827",
   "metadata": {},
   "source": [
    "## 3. Enhanced Exploratory Analysis\n",
    "In this section, I conduct exploratory analysis to understand the conversion behavior. \n",
    "I examine overall conversion rates and then drill down by country to capture any geographic trends."
   ]
  },
  {
   "cell_type": "code",
   "execution_count": 5,
   "id": "e50b385c",
   "metadata": {},
   "outputs": [
    {
     "name": "stdout",
     "output_type": "stream",
     "text": [
      "Overall Conversion Analysis:\n",
      "--------------------------------------------------\n"
     ]
    },
    {
     "data": {
      "text/html": [
       "<div>\n",
       "<style scoped>\n",
       "    .dataframe tbody tr th:only-of-type {\n",
       "        vertical-align: middle;\n",
       "    }\n",
       "\n",
       "    .dataframe tbody tr th {\n",
       "        vertical-align: top;\n",
       "    }\n",
       "\n",
       "    .dataframe thead th {\n",
       "        text-align: right;\n",
       "    }\n",
       "</style>\n",
       "<table border=\"1\" class=\"dataframe\">\n",
       "  <thead>\n",
       "    <tr style=\"text-align: right;\">\n",
       "      <th></th>\n",
       "      <th>count</th>\n",
       "      <th>conversion_rate</th>\n",
       "      <th>std_dev</th>\n",
       "      <th>unique_users</th>\n",
       "    </tr>\n",
       "    <tr>\n",
       "      <th>group</th>\n",
       "      <th></th>\n",
       "      <th></th>\n",
       "      <th></th>\n",
       "      <th></th>\n",
       "    </tr>\n",
       "  </thead>\n",
       "  <tbody>\n",
       "    <tr>\n",
       "      <th>control</th>\n",
       "      <td>145274</td>\n",
       "      <td>0.1204</td>\n",
       "      <td>0.3254</td>\n",
       "      <td>145274</td>\n",
       "    </tr>\n",
       "    <tr>\n",
       "      <th>treatment</th>\n",
       "      <td>145310</td>\n",
       "      <td>0.1188</td>\n",
       "      <td>0.3236</td>\n",
       "      <td>145310</td>\n",
       "    </tr>\n",
       "  </tbody>\n",
       "</table>\n",
       "</div>"
      ],
      "text/plain": [
       "            count  conversion_rate  std_dev  unique_users\n",
       "group                                                    \n",
       "control    145274           0.1204   0.3254        145274\n",
       "treatment  145310           0.1188   0.3236        145310"
      ]
     },
     "metadata": {},
     "output_type": "display_data"
    },
    {
     "name": "stdout",
     "output_type": "stream",
     "text": [
      "\n",
      "Conversion Analysis by Country:\n",
      "--------------------------------------------------\n"
     ]
    },
    {
     "data": {
      "text/html": [
       "<div>\n",
       "<style scoped>\n",
       "    .dataframe tbody tr th:only-of-type {\n",
       "        vertical-align: middle;\n",
       "    }\n",
       "\n",
       "    .dataframe tbody tr th {\n",
       "        vertical-align: top;\n",
       "    }\n",
       "\n",
       "    .dataframe thead th {\n",
       "        text-align: right;\n",
       "    }\n",
       "</style>\n",
       "<table border=\"1\" class=\"dataframe\">\n",
       "  <thead>\n",
       "    <tr style=\"text-align: right;\">\n",
       "      <th></th>\n",
       "      <th></th>\n",
       "      <th>count</th>\n",
       "      <th>conversion_rate</th>\n",
       "      <th>std_dev</th>\n",
       "      <th>unique_users</th>\n",
       "    </tr>\n",
       "    <tr>\n",
       "      <th>country</th>\n",
       "      <th>group</th>\n",
       "      <th></th>\n",
       "      <th></th>\n",
       "      <th></th>\n",
       "      <th></th>\n",
       "    </tr>\n",
       "  </thead>\n",
       "  <tbody>\n",
       "    <tr>\n",
       "      <th rowspan=\"2\" valign=\"top\">CA</th>\n",
       "      <th>control</th>\n",
       "      <td>7198</td>\n",
       "      <td>0.1188</td>\n",
       "      <td>0.3236</td>\n",
       "      <td>7198</td>\n",
       "    </tr>\n",
       "    <tr>\n",
       "      <th>treatment</th>\n",
       "      <td>7301</td>\n",
       "      <td>0.1119</td>\n",
       "      <td>0.3153</td>\n",
       "      <td>7301</td>\n",
       "    </tr>\n",
       "    <tr>\n",
       "      <th rowspan=\"2\" valign=\"top\">UK</th>\n",
       "      <th>control</th>\n",
       "      <td>36360</td>\n",
       "      <td>0.1200</td>\n",
       "      <td>0.3250</td>\n",
       "      <td>36360</td>\n",
       "    </tr>\n",
       "    <tr>\n",
       "      <th>treatment</th>\n",
       "      <td>36106</td>\n",
       "      <td>0.1212</td>\n",
       "      <td>0.3263</td>\n",
       "      <td>36106</td>\n",
       "    </tr>\n",
       "    <tr>\n",
       "      <th rowspan=\"2\" valign=\"top\">US</th>\n",
       "      <th>control</th>\n",
       "      <td>101716</td>\n",
       "      <td>0.1206</td>\n",
       "      <td>0.3257</td>\n",
       "      <td>101716</td>\n",
       "    </tr>\n",
       "    <tr>\n",
       "      <th>treatment</th>\n",
       "      <td>101903</td>\n",
       "      <td>0.1185</td>\n",
       "      <td>0.3232</td>\n",
       "      <td>101903</td>\n",
       "    </tr>\n",
       "  </tbody>\n",
       "</table>\n",
       "</div>"
      ],
      "text/plain": [
       "                    count  conversion_rate  std_dev  unique_users\n",
       "country group                                                    \n",
       "CA      control      7198           0.1188   0.3236          7198\n",
       "        treatment    7301           0.1119   0.3153          7301\n",
       "UK      control     36360           0.1200   0.3250         36360\n",
       "        treatment   36106           0.1212   0.3263         36106\n",
       "US      control    101716           0.1206   0.3257        101716\n",
       "        treatment  101903           0.1185   0.3232        101903"
      ]
     },
     "metadata": {},
     "output_type": "display_data"
    }
   ],
   "source": [
    "# Define a function to analyze conversion metrics, which I will use repeatedly for different groupings.\n",
    "def analyze_conversions(data, group_cols):\n",
    "    metrics = data.groupby(group_cols).agg({\n",
    "        'converted': ['count', 'mean', 'std'],\n",
    "        'user_id': 'nunique'\n",
    "    }).round(4)\n",
    "    \n",
    "    # Rename columns for better readability\n",
    "    metrics.columns = ['count', 'conversion_rate', 'std_dev', 'unique_users']\n",
    "    return metrics\n",
    "\n",
    "# Overall conversion analysis to get a bird's-eye view of performance\n",
    "print(\"Overall Conversion Analysis:\")\n",
    "print(\"-\" * 50)\n",
    "display(analyze_conversions(df_final, ['group']))\n",
    "\n",
    "# Country-specific conversion analysis to see regional performance variations\n",
    "print(\"\\nConversion Analysis by Country:\")\n",
    "print(\"-\" * 50)\n",
    "display(analyze_conversions(df_final, ['country', 'group']))"
   ]
  },
  {
   "cell_type": "code",
   "execution_count": 6,
   "id": "6d47d232",
   "metadata": {
    "lines_to_next_cell": 1
   },
   "outputs": [
    {
     "data": {
      "image/png": "[encoded data removed]",
      "text/plain": [
       "<Figure size 1500x600 with 2 Axes>"
      ]
     },
     "metadata": {},
     "output_type": "display_data"
    }
   ],
   "source": [
    "# Visualization of conversion rates to clearly communicate differences\n",
    "plt.figure(figsize=(15, 6))\n",
    "\n",
    "# Plot 1: Overall conversion rates by group\n",
    "plt.subplot(1, 2, 1)\n",
    "sns.barplot(x='group', y='converted', data=df_final, ci=95)\n",
    "plt.title('Overall Conversion Rates by Group')\n",
    "plt.ylabel('Conversion Rate')\n",
    "\n",
    "# Plot 2: Conversion rates by country, with group breakdowns\n",
    "plt.subplot(1, 2, 2)\n",
    "sns.barplot(x='country', y='converted', hue='group', data=df_final)\n",
    "plt.title('Conversion Rates by Country')\n",
    "plt.ylabel('Conversion Rate')\n",
    "\n",
    "plt.tight_layout()\n",
    "plt.show()"
   ]
  },
  {
   "cell_type": "markdown",
   "id": "d6408616",
   "metadata": {},
   "source": [
    "## 4. Statistical Testing\n",
    "Now, I perform statistical tests to validate the significance of the differences observed. \n",
    "Using a Z-test, I assess whether the new landing page leads to a statistically significant change in conversion rates."
   ]
  },
  {
   "cell_type": "code",
   "execution_count": 7,
   "id": "7590e010",
   "metadata": {
    "lines_to_next_cell": 1
   },
   "outputs": [
    {
     "name": "stdout",
     "output_type": "stream",
     "text": [
      "Z-Test Results:\n",
      "--------------------------------------------------\n",
      "Z-statistic: -1.3109\n",
      "P-value: 0.1899\n",
      "Treatment conversion: 11.8808%\n",
      "Control conversion: 12.0386%\n"
     ]
    }
   ],
   "source": [
    "# Function to perform a Z-test between two groups\n",
    "def perform_z_test(df, group1, group2):\n",
    "    n1 = len(df[df['group'] == group1])\n",
    "    n2 = len(df[df['group'] == group2])\n",
    "    x1 = df[df['group'] == group1]['converted'].sum()\n",
    "    x2 = df[df['group'] == group2]['converted'].sum()\n",
    "    \n",
    "    # Calculate the Z-statistic and p-value for the difference in proportions\n",
    "    z_stat, p_val = sm.stats.proportions_ztest([x1, x2], [n1, n2])\n",
    "    \n",
    "    return {\n",
    "        'z_statistic': z_stat,\n",
    "        'p_value': p_val,\n",
    "        'group1_conv': x1/n1,\n",
    "        'group2_conv': x2/n2\n",
    "    }\n",
    "\n",
    "# Execute the Z-test to compare treatment and control groups\n",
    "z_test_results = perform_z_test(df_final, 'treatment', 'control')\n",
    "print(\"Z-Test Results:\")\n",
    "print(\"-\" * 50)\n",
    "print(f\"Z-statistic: {z_test_results['z_statistic']:.4f}\")\n",
    "print(f\"P-value: {z_test_results['p_value']:.4f}\")\n",
    "print(f\"Treatment conversion: {z_test_results['group1_conv']:.4%}\")\n",
    "print(f\"Control conversion: {z_test_results['group2_conv']:.4%}\")"
   ]
  },
  {
   "cell_type": "markdown",
   "id": "66485687",
   "metadata": {},
   "source": [
    "## 5. Effect Size Analysis\n",
    "To further understand the impact of the change, I calculate Cohen's h, which provides an effect size measurement for proportions.\n",
    "This helps in understanding whether the observed difference is practically meaningful."
   ]
  },
  {
   "cell_type": "code",
   "execution_count": 8,
   "id": "e0452358",
   "metadata": {
    "lines_to_next_cell": 1
   },
   "outputs": [
    {
     "name": "stdout",
     "output_type": "stream",
     "text": [
      "Effect Size Analysis:\n",
      "--------------------------------------------------\n",
      "Cohen's h: -0.0049\n",
      "\n",
      "Effect Size Interpretation:\n",
      "< 0.2: Negligible\n",
      "0.2 - 0.5: Small\n",
      "0.5 - 0.8: Medium\n",
      "> 0.8: Large\n"
     ]
    }
   ],
   "source": [
    "# Function to calculate Cohen's h for effect size in proportions\n",
    "def calculate_effect_size(p1, p2):\n",
    "    \"\"\"Calculate Cohen's h effect size for proportions\"\"\"\n",
    "    h = 2 * (np.arcsin(np.sqrt(p1)) - np.arcsin(np.sqrt(p2)))\n",
    "    return h\n",
    "\n",
    "effect_size = calculate_effect_size(\n",
    "    z_test_results['group1_conv'],\n",
    "    z_test_results['group2_conv']\n",
    ")\n",
    "\n",
    "print(\"Effect Size Analysis:\")\n",
    "print(\"-\" * 50)\n",
    "print(f\"Cohen's h: {effect_size:.4f}\")\n",
    "print(\"\\nEffect Size Interpretation:\")\n",
    "print(\"< 0.2: Negligible\")\n",
    "print(\"0.2 - 0.5: Small\")\n",
    "print(\"0.5 - 0.8: Medium\")\n",
    "print(\"> 0.8: Large\")"
   ]
  },
  {
   "cell_type": "markdown",
   "id": "fb8624a0",
   "metadata": {},
   "source": [
    "## 6. Business Impact Analysis\n",
    "Beyond statistical significance, I quantify the potential business impact of the conversion rate differences.\n",
    "This analysis translates the conversion improvements (or lack thereof) into revenue impact, an important metric for decision-makers."
   ]
  },
  {
   "cell_type": "code",
   "execution_count": 9,
   "id": "095b6eb4",
   "metadata": {},
   "outputs": [
    {
     "name": "stdout",
     "output_type": "stream",
     "text": [
      "Business Impact Analysis:\n",
      "--------------------------------------------------\n",
      "Absolute conversion difference: -0.1578%\n",
      "Relative conversion difference: -1.3110%\n",
      "Estimated monthly revenue impact: $-15,782.39\n",
      "Estimated yearly revenue impact: $-189,388.68\n"
     ]
    }
   ],
   "source": [
    "def calculate_business_impact(df, avg_revenue_per_conversion=100):\n",
    "    \"\"\"Calculate potential business impact of conversion rate changes based on assumed revenue per conversion.\"\"\"\n",
    "    conv_diff = z_test_results['group1_conv'] - z_test_results['group2_conv']\n",
    "    monthly_visitors = 100000  # Assumed average monthly traffic for estimation\n",
    "    \n",
    "    impact = {\n",
    "        'absolute_conv_diff': conv_diff,\n",
    "        'relative_conv_diff': conv_diff / z_test_results['group2_conv'],\n",
    "        'monthly_revenue_impact': monthly_visitors * conv_diff * avg_revenue_per_conversion,\n",
    "        'yearly_revenue_impact': monthly_visitors * conv_diff * avg_revenue_per_conversion * 12\n",
    "    }\n",
    "    \n",
    "    return impact\n",
    "\n",
    "impact = calculate_business_impact(df_final)\n",
    "\n",
    "print(\"Business Impact Analysis:\")\n",
    "print(\"-\" * 50)\n",
    "print(f\"Absolute conversion difference: {impact['absolute_conv_diff']:.4%}\")\n",
    "print(f\"Relative conversion difference: {impact['relative_conv_diff']:.4%}\")\n",
    "print(f\"Estimated monthly revenue impact: ${impact['monthly_revenue_impact']:,.2f}\")\n",
    "print(f\"Estimated yearly revenue impact: ${impact['yearly_revenue_impact']:,.2f}\")"
   ]
  },
  {
   "cell_type": "markdown",
   "id": "67db62ee",
   "metadata": {},
   "source": [
    "## 7. Conclusions and Recommendations\n",
    "Finally, I summarize the findings and provide recommendations based on the analysis. \n",
    "I discuss the statistical results, business implications, and next steps for future testing and improvement."
   ]
  },
  {
   "cell_type": "markdown",
   "id": "c0d97331-c532-46ca-9986-5588e5f15ce9",
   "metadata": {},
   "source": [
    "Conclusions:\n",
    "1. Statistical Significance:\n",
    "   - The Z-test produced a p-value of 0.1899, which is above the typical 0.05 threshold.\n",
    "   - The effect size (Cohen's h) is -0.0049, indicating a negligible effect.\n",
    "   - Together, these suggest that the new landing page did not yield a statistically significant improvement in conversion rates.\n",
    "\n",
    "2. Business Impact:\n",
    "   - The treatment group’s conversion rate is about 11.88% compared to 12.04% in the control group, resulting in an absolute difference of -0.1578%.\n",
    "   - The relative difference is -1.3110%, which translates to an estimated monthly revenue impact of approximately `-$15,782.39` and a yearly impact of `-$189,388.68`.\n",
    "   - This negative revenue impact indicates that implementing the new page would not be cost-effective.\n",
    "\n",
    "3. Recommendations:\n",
    "   - Maintain the current landing page design rather than adopting the new design.\n",
    "   - Consider testing more substantial design changes or alternative approaches that might have a higher potential to improve conversion rates.\n",
    "   - Focus on high-value customer segments where even small improvements might have a larger business impact.\n",
    "   - Conduct qualitative research (e.g., user interviews or surveys) to better understand the factors affecting conversions.\n",
    "\n",
    "4. Next Steps:\n",
    "   - Design follow-up A/B tests targeting specific user segments or different page elements.\n",
    "   - Explore multivariate testing to identify which specific elements (such as call-to-action, imagery, or layout) could drive improvements.\n",
    "   - Implement continuous monitoring of conversion metrics to quickly identify and respond to any changes in performance."
   ]
  }
 ],
 "metadata": {
  "jupytext": {
   "cell_metadata_filter": "-all",
   "main_language": "python",
   "notebook_metadata_filter": "-all"
  },
  "kernelspec": {
   "display_name": "Python 3 (ipykernel)",
   "language": "python",
   "name": "python3"
  },
  "language_info": {
   "codemirror_mode": {
    "name": "ipython",
    "version": 3
   },
   "file_extension": ".py",
   "mimetype": "text/x-python",
   "name": "python",
   "nbconvert_exporter": "python",
   "pygments_lexer": "ipython3",
   "version": "3.8.10"
  }
 },
 "nbformat": 4,
 "nbformat_minor": 5
}
